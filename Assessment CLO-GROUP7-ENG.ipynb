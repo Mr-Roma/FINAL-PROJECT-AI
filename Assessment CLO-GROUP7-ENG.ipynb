{
 "cells": [
  {
   "cell_type": "markdown",
   "id": "0998ab93",
   "metadata": {},
   "source": [
    "# <center>Assessment CLO-3: Programming Assignment - Learning</center>"
   ]
  },
  {
   "cell_type": "markdown",
   "id": "b9dd2c3d",
   "metadata": {},
   "source": [
    "<b>Topic</b>\n",
    "[Binary Classsification] on [Accelerometer Gyro Mobile Phone ] using [KNN, Decision Tree and Gaussian Naive Baiyes]\n",
    "\n",
    "<b>Group: </b>\n",
    "\n",
    "Member:\n",
    "1. Romario Viegas Francisco Marcal - 1301225492\n",
    "2. Ari Ramadhan - 1301224458\n",
    "3. Edric Veda Adiyatma - 1301224245"
   ]
  },
  {
   "cell_type": "markdown",
   "id": "f67c8e8d",
   "metadata": {},
   "source": [
    "#### Introduction\n",
    "The dataset is titled \"Accelerometer+Gyro+Mobile Phone Dataset\" and contains data collected from an accelerometer and gyroscope on a mobile phone.\n",
    "\n",
    "The dataset can be used for a variety of tasks, such as:\n",
    "Activity recognition: The data can be used to train models to recognize different types of physical activity, such as walking, running, and sitting.\n",
    "Fall detection: The data can be used to develop algorithms to detect falls, which could be helpful for elderly people or those with health conditions that make them more prone to falling.\n",
    "Gesture recognition: The data can be used to train models to recognize different gestures made with the phone, which could be used for a variety of applications, such as controlling games or interacting with other devices.\n",
    "\n",
    "This dataset was donated to the UCI Machine Learning Repository on November 24, 2022. It contains data collected in 2022 at King Saud University in Riyadh. And this dataset are focusing on the activities recognized are standing and walking. The dataset contains 8 features: accelerometer X, accelerometer Y, accelerometer Z, gyroscope X, gyroscope Y, gyroscope Z, timestamp, and activity. There are no missing values in the dataset."
   ]
  },
  {
   "cell_type": "code",
   "execution_count": 28,
   "id": "06681089",
   "metadata": {},
   "outputs": [],
   "source": [
    "import warnings\n",
    "warnings.filterwarnings(\"ignore\")\n",
    "\n",
    "import pandas as pd\n",
    "from sklearn.model_selection import train_test_split, cross_val_score\n",
    "from sklearn.preprocessing import StandardScaler\n",
    "from sklearn.neighbors import KNeighborsClassifier\n",
    "from sklearn.tree import DecisionTreeClassifier\n",
    "from sklearn.naive_bayes import GaussianNB\n",
    "from sklearn.metrics import accuracy_score\n",
    "%matplotlib inline"
   ]
  },
  {
   "cell_type": "code",
   "execution_count": 29,
   "id": "f0b471b6",
   "metadata": {},
   "outputs": [
    {
     "name": "stdout",
     "output_type": "stream",
     "text": [
      "               accX          accY          accZ         gyroX         gyroY  \\\n",
      "count  31991.000000  31991.000000  31991.000000  31991.000000  31991.000000   \n",
      "mean       0.023825      2.153858      9.537909     -0.004493     -0.014756   \n",
      "std        0.741396      1.085466      2.056358      0.307643      0.249201   \n",
      "min       -3.673361     -4.386029      4.296066     -1.470421     -1.430659   \n",
      "25%       -0.472193      1.413062      7.794217     -0.149783     -0.162656   \n",
      "50%       -0.024998      2.119143      9.406739      0.022301     -0.011060   \n",
      "75%        0.477208      2.928435     11.158845      0.177978      0.124966   \n",
      "max        4.678671      6.377039     17.591568      1.332722      1.480135   \n",
      "\n",
      "              gyroZ      Activity  \n",
      "count  31991.000000  31991.000000  \n",
      "mean      -0.007021      0.982151  \n",
      "std        0.266120      0.132404  \n",
      "min       -1.894102      0.000000  \n",
      "25%       -0.154126      1.000000  \n",
      "50%        0.005261      1.000000  \n",
      "75%        0.152061      1.000000  \n",
      "max        1.482268      1.000000  \n"
     ]
    }
   ],
   "source": [
    "#SUMMARY STATSTICS\n",
    "data = pd.read_csv('data/accce.csv')\n",
    "print(data.describe())"
   ]
  },
  {
   "cell_type": "code",
   "execution_count": 30,
   "id": "b41b7791",
   "metadata": {},
   "outputs": [
    {
     "name": "stdout",
     "output_type": "stream",
     "text": [
      "       accX      accY      accZ     gyroX     gyroY     gyroZ timestamp  \\\n",
      "0 -0.496517  3.785628  8.954828 -0.142849 -0.126159 -0.022539   34:22.9   \n",
      "1 -0.462388  3.869603  9.281898  0.084349  0.096695  0.092130   34:23.0   \n",
      "2 -0.296084  3.820505  8.930728  0.061763  0.051543  0.071287   34:23.1   \n",
      "3 -0.469723  3.890110  8.744067  0.007641  0.028679  0.109433   34:23.2   \n",
      "4 -0.472418  4.109105  8.941207 -0.123640  0.099057  0.051943   34:23.3   \n",
      "\n",
      "   Activity  \n",
      "0         1  \n",
      "1         1  \n",
      "2         1  \n",
      "3         1  \n",
      "4         1  \n",
      "<class 'pandas.core.frame.DataFrame'>\n",
      "RangeIndex: 31991 entries, 0 to 31990\n",
      "Data columns (total 8 columns):\n",
      " #   Column     Non-Null Count  Dtype  \n",
      "---  ------     --------------  -----  \n",
      " 0   accX       31991 non-null  float64\n",
      " 1   accY       31991 non-null  float64\n",
      " 2   accZ       31991 non-null  float64\n",
      " 3   gyroX      31991 non-null  float64\n",
      " 4   gyroY      31991 non-null  float64\n",
      " 5   gyroZ      31991 non-null  float64\n",
      " 6   timestamp  31991 non-null  object \n",
      " 7   Activity   31991 non-null  int64  \n",
      "dtypes: float64(6), int64(1), object(1)\n",
      "memory usage: 2.0+ MB\n",
      "None\n"
     ]
    }
   ],
   "source": [
    "#READ DATASET\n",
    "print(data.head())\n",
    "print(data.info())"
   ]
  },
  {
   "cell_type": "markdown",
   "id": "445eb985",
   "metadata": {},
   "source": [
    "#### Preprocessing"
   ]
  },
  {
   "cell_type": "code",
   "execution_count": 31,
   "id": "b175a651",
   "metadata": {},
   "outputs": [],
   "source": [
    "# Drop the timestamp column as it's not needed for modeling\n",
    "data = data.drop(columns=['timestamp'])"
   ]
  },
  {
   "cell_type": "code",
   "execution_count": 32,
   "id": "2303ef21",
   "metadata": {},
   "outputs": [
    {
     "name": "stdout",
     "output_type": "stream",
     "text": [
      "<class 'pandas.core.frame.DataFrame'>\n",
      "RangeIndex: 31991 entries, 0 to 31990\n",
      "Data columns (total 6 columns):\n",
      " #   Column  Non-Null Count  Dtype  \n",
      "---  ------  --------------  -----  \n",
      " 0   accX    31991 non-null  float64\n",
      " 1   accY    31991 non-null  float64\n",
      " 2   accZ    31991 non-null  float64\n",
      " 3   gyroX   31991 non-null  float64\n",
      " 4   gyroY   31991 non-null  float64\n",
      " 5   gyroZ   31991 non-null  float64\n",
      "dtypes: float64(6)\n",
      "memory usage: 1.5 MB\n",
      "\n",
      "\n",
      "<class 'pandas.core.series.Series'>\n",
      "RangeIndex: 31991 entries, 0 to 31990\n",
      "Series name: Activity\n",
      "Non-Null Count  Dtype\n",
      "--------------  -----\n",
      "31991 non-null  int64\n",
      "dtypes: int64(1)\n",
      "memory usage: 250.1 KB\n",
      "\n",
      "\n"
     ]
    }
   ],
   "source": [
    "# Data Preprocessing\n",
    "# Data Splitting\n",
    "# Split the data into features and target\n",
    "X = data.drop(columns=['Activity'])\n",
    "X.info()\n",
    "X.head()\n",
    "X.describe()\n",
    "print(\"\")\n",
    "print(\"\")\n",
    "y = data['Activity']\n",
    "y.info()\n",
    "y.head()\n",
    "y.describe()\n",
    "print(\"\")\n",
    "print(\"\")"
   ]
  },
  {
   "cell_type": "code",
   "execution_count": 33,
   "id": "59d06fc0",
   "metadata": {},
   "outputs": [],
   "source": [
    "# Split the data into training and testing sets\n",
    "X_train, X_test, y_train, y_test = train_test_split(X, y, test_size=0.3, random_state=42)"
   ]
  },
  {
   "cell_type": "code",
   "execution_count": 34,
   "id": "280b8c59",
   "metadata": {},
   "outputs": [],
   "source": [
    "# Scale the fetures \n",
    "scaler = StandardScaler()\n",
    "X_train_scaled = scaler.fit_transform(X_train)\n",
    "X_test_scaled = scaler.transform(X_test)"
   ]
  },
  {
   "cell_type": "markdown",
   "id": "691b437e",
   "metadata": {},
   "source": [
    "#### Method Used\n",
    "Method that used to solve the problem of activity recognition are using KNN, Gaussian Naive Bayes and Decisison Tree."
   ]
  },
  {
   "cell_type": "code",
   "execution_count": 35,
   "id": "348c59c4",
   "metadata": {},
   "outputs": [],
   "source": [
    "# Experiment Settings\n",
    "#INITIALIZE THE MODELS\n",
    "\n",
    "knn = KNeighborsClassifier()\n",
    "decision_tree = DecisionTreeClassifier(random_state=42)\n",
    "naive_bayes = GaussianNB()\n",
    "\n",
    "\n"
   ]
  },
  {
   "cell_type": "code",
   "execution_count": 36,
   "id": "27ae8626",
   "metadata": {},
   "outputs": [],
   "source": [
    "# Model Training\n",
    "# Save the trained model\n",
    "#TRAIN THE KNN AND EVALUATE THE KNN\n",
    "knn.fit(X_train_scaled, y_train)\n",
    "knn_predictions = knn.predict(X_test_scaled)\n",
    "knn_accuracy = accuracy_score(y_test, knn_predictions)\n",
    "\n"
   ]
  },
  {
   "cell_type": "code",
   "execution_count": 37,
   "id": "c407f554",
   "metadata": {},
   "outputs": [],
   "source": [
    "#TRAIN AND EVALUATE THE DECISION TREE \n",
    "decision_tree.fit(X_train, y_train)\n",
    "decision_tree_predictions = decision_tree.predict(X_test)\n",
    "decision_tree_accuracy = accuracy_score(y_test, decision_tree_predictions)"
   ]
  },
  {
   "cell_type": "code",
   "execution_count": 38,
   "id": "527a60ab",
   "metadata": {},
   "outputs": [],
   "source": [
    "#TRAIN AND EVALUATE THE NAIVE BAYES\n",
    "naive_bayes.fit(X_train, y_train)\n",
    "naive_bayes_predictions = naive_bayes.predict(X_test)\n",
    "naive_bayes_accuracy = accuracy_score(y_test, naive_bayes_predictions)"
   ]
  },
  {
   "cell_type": "code",
   "execution_count": 39,
   "id": "db175b05",
   "metadata": {},
   "outputs": [
    {
     "name": "stdout",
     "output_type": "stream",
     "text": [
      "KNN:\n",
      "              precision    recall  f1-score   support\n",
      "\n",
      "           0       0.52      0.16      0.24       172\n",
      "           1       0.98      1.00      0.99      9426\n",
      "\n",
      "    accuracy                           0.98      9598\n",
      "   macro avg       0.75      0.58      0.62      9598\n",
      "weighted avg       0.98      0.98      0.98      9598\n",
      "\n",
      "Decision Tree:\n",
      "              precision    recall  f1-score   support\n",
      "\n",
      "           0       0.29      0.30      0.30       172\n",
      "           1       0.99      0.99      0.99      9426\n",
      "\n",
      "    accuracy                           0.97      9598\n",
      "   macro avg       0.64      0.64      0.64      9598\n",
      "weighted avg       0.97      0.97      0.97      9598\n",
      "\n",
      "Naive Bayes:\n",
      "              precision    recall  f1-score   support\n",
      "\n",
      "           0       0.00      0.00      0.00       172\n",
      "           1       0.98      1.00      0.99      9426\n",
      "\n",
      "    accuracy                           0.98      9598\n",
      "   macro avg       0.49      0.50      0.50      9598\n",
      "weighted avg       0.96      0.98      0.97      9598\n",
      "\n"
     ]
    }
   ],
   "source": [
    "# Model Testing and Evaluation\n",
    "# Show the performance\n",
    "# Write your code here\n",
    "\n",
    "from sklearn.metrics import classification_report\n",
    "\n",
    "# Print classification report for KNN\n",
    "print(\"KNN:\")\n",
    "print(classification_report(y_test, knn_predictions))\n",
    "\n",
    "# Print classification report for Decision Tree\n",
    "print(\"Decision Tree:\")\n",
    "print(classification_report(y_test, decision_tree_predictions))\n",
    "\n",
    "# Print classification report for Naive Bayes\n",
    "print(\"Naive Bayes:\")\n",
    "print(classification_report(y_test, naive_bayes_predictions))"
   ]
  },
  {
   "cell_type": "markdown",
   "id": "9bef713b",
   "metadata": {},
   "source": [
    "#### Visualization"
   ]
  },
  {
   "cell_type": "code",
   "execution_count": 44,
   "id": "d52379a1",
   "metadata": {},
   "outputs": [
    {
     "data": {
      "image/png": "[encoded data removed]",
      "text/plain": [
       "<Figure size 640x480 with 1 Axes>"
      ]
     },
     "metadata": {},
     "output_type": "display_data"
    }
   ],
   "source": [
    "import pandas as pd\n",
    "import seaborn as sns\n",
    "\n",
    "# Create a DataFrame with the results\n",
    "results = pd.DataFrame({\n",
    "    'Model': ['KNN', 'Decision Tree', 'Naive Bayes'],\n",
    "    'Accuracy': [0.98, 0.97, 0.98],\n",
    "    'Precision (Class 0)': [0.52, 0.29, 0.00],\n",
    "    'Recall (Class 0)': [0.16, 0.30, 0.00],\n",
    "    'F1-Score (Class 0)': [0.24, 0.30, 0.00],\n",
    "    'Precision (Class 1)': [0.98, 0.99, 0.98],\n",
    "    'Recall (Class 1)': [1.00, 0.99, 1.00],\n",
    "    'F1-Score (Class 1)': [0.99, 0.99, 0.99]\n",
    "})\n",
    "\n",
    "# Melt the DataFrame to make it suitable for a bar plot\n",
    "import matplotlib.pyplot as plt\n",
    "\n",
    "sns.barplot(x='Model', y='value', hue='variable')\n",
    "plt.title('Model Performance')\n",
    "plt.ylabel('Score')\n",
    "plt.show()\n"
   ]
  },
  {
   "attachments": {
    "image.png": {
     "image/png": "[encoded data removed]"
    }
   },
   "cell_type": "markdown",
   "id": "c5526cf7",
   "metadata": {},
   "source": [
    "#### Results and Analysis\n",
    "The performance of the three models (KNN, Decision Tree, and Naive Bayes) was evaluated using precision, recall, f1-score, and accuracy. The results are summarized in the table below:\n",
    "\n",
    "![image.png](attachment:image.png)\n",
    "\n",
    "From the results, it's clear that all three models perform well in identifying 'walking' activities (Class 1), with high precision, recall, and F1-scores. However, they struggle with identifying 'standing' activities (Class 0). The KNN model performs the best for 'standing' activities, but its performance is still relatively poor.\n",
    "\n",
    "The Naive Bayes model fails to correctly identify any 'standing' activities, as indicated by the precision, recall, and F1-score of 0.00 for Class 0. This suggests that the Naive Bayes model is not suitable for this problem with the current dataset.\n",
    "\n",
    "The class imbalance in the dataset is likely contributing to the models' poor performance for 'standing' activities. Future work could involve resampling the dataset to balance the classes, generating synthetic samples, or exploring different models or techniques that are better suited to imbalanced datasets.\n"
   ]
  },
  {
   "cell_type": "markdown",
   "id": "8a255fe5",
   "metadata": {},
   "source": [
    "#### Conclusion\n",
    "In conclusion, all three models perform well for walking activities but struggle with standing activities. This is likely due to the class imbalance in the dataset. To improve the models' performance for standing activities, you could try resampling the dataset to balance the classes, generating synthetic samples, or using different models or techniques that are better suited to imbalanced datasets."
   ]
  },
  {
   "cell_type": "markdown",
   "id": "5241e91d",
   "metadata": {},
   "source": []
  }
 ],
 "metadata": {
  "kernelspec": {
   "display_name": "Python 3 (ipykernel)",
   "language": "python",
   "name": "python3"
  },
  "language_info": {
   "codemirror_mode": {
    "name": "ipython",
    "version": 3
   },
   "file_extension": ".py",
   "mimetype": "text/x-python",
   "name": "python",
   "nbconvert_exporter": "python",
   "pygments_lexer": "ipython3",
   "version": "3.9.1rc1"
  }
 },
 "nbformat": 4,
 "nbformat_minor": 5
}
